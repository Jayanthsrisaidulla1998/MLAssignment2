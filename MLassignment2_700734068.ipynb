{
 "cells": [
  {
   "cell_type": "code",
   "execution_count": 7,
   "id": "eefb63cc",
   "metadata": {},
   "outputs": [
    {
     "name": "stdout",
     "output_type": "stream",
     "text": [
      "*  \r\n",
      "*  *  \r\n",
      "*  *  *  \r\n",
      "*  *  *  *  \r\n",
      "*  *  *  *  *  \r\n",
      "*  *  *  *  \r\n",
      "*  *  *  \r\n",
      "*  *  \r\n",
      "*  \r\n",
      "\r\n"
     ]
    }
   ],
   "source": [
    "rows=5\n",
    "for x in range(0, rows):                                       ##using nested for loop for top 5rows of star pattern\n",
    "    for j in range(0, x + 1):\n",
    "        print(\"* \", end=' ')\n",
    "    print(\"\\r\")\n",
    "for x in range(rows, 0, -1):                                   ##using nested for loop for bottoms 5rows of star pattern\n",
    "    for j in range(0, x - 1):\n",
    "        print(\"* \", end=' ')\n",
    "    print(\"\\r\")     \n"
   ]
  },
  {
   "cell_type": "code",
   "execution_count": 6,
   "id": "13e0ba43",
   "metadata": {},
   "outputs": [
    {
     "name": "stdout",
     "output_type": "stream",
     "text": [
      "20 40 60 80 100 "
     ]
    }
   ],
   "source": [
    "#Using loop to output the elements from a provided list present at odd indexes.\n",
    "my_list = [10, 20, 30, 40, 50, 60, 70, 80, 90, 100]\n",
    "for i in my_list[1::2]:                                 ## start from index 1 with step 2( means 1, 3, 5, an so on)\n",
    "    print(i, end=\" \")"
   ]
  },
  {
   "cell_type": "code",
   "execution_count": 11,
   "id": "fa20a7ad",
   "metadata": {},
   "outputs": [
    {
     "name": "stdout",
     "output_type": "stream",
     "text": [
      "[23, 'Python', 23.98]\n",
      "[<class 'int'>, <class 'str'>, <class 'float'>]\n"
     ]
    }
   ],
   "source": [
    "x = [23,'Python', 23.98]                    # Append a list with types of elements\n",
    "types = []\n",
    "for i in range(len(x)):                     #using type function to get types of elements and printing them\n",
    "    types.append(type(x[i]))                #appends the type of elements in x to list types\n",
    "print(x)\n",
    "print(types)"
   ]
  },
  {
   "cell_type": "code",
   "execution_count": 12,
   "id": "62a727fe",
   "metadata": {},
   "outputs": [
    {
     "name": "stdout",
     "output_type": "stream",
     "text": [
      "[1, 2, 3, 4, 5]\n"
     ]
    }
   ],
   "source": [
    "def unique_list(l):               ##creating uniques list function\n",
    "  x = []                          ##creating an empty list\n",
    "  for i in l:                     ##checks the element in l\n",
    "    if i not in x:                ##if element in l is not in x\n",
    "      x.append(a)                 ##appends the element into the list\n",
    "  return x\n",
    "print(unique_list([1,2,3,3,3,3,4,5]))"
   ]
  },
  {
   "cell_type": "code",
   "execution_count": 16,
   "id": "b5a622cd",
   "metadata": {},
   "outputs": [],
   "source": [
    "def string_test(s):                            ##creating the function\n",
    "    d={\"UPPERCASE\":0, \"LOWERCASE\":0}\n",
    "    for c in s:\n",
    "        if c.isupper():\n",
    "           d[\"UPPERCASE\"]+=1\n",
    "        elif c.islower():\n",
    "           d[\"LOWERCASE\"]+=1\n",
    "        else:\n",
    "           pass\n",
    "    print (\"Input String : \", s)\n",
    "    print (\"No. of Upper-case characters : \", d[\"UPPERCASE\"])\n",
    "    print (\"No. of Lower-case Characters : \", d[\"LOWERCASE\"])\n"
   ]
  }
 ],
 "metadata": {
  "kernelspec": {
   "display_name": "Python 3 (ipykernel)",
   "language": "python",
   "name": "python3"
  },
  "language_info": {
   "codemirror_mode": {
    "name": "ipython",
    "version": 3
   },
   "file_extension": ".py",
   "mimetype": "text/x-python",
   "name": "python",
   "nbconvert_exporter": "python",
   "pygments_lexer": "ipython3",
   "version": "3.9.13"
  }
 },
 "nbformat": 4,
 "nbformat_minor": 5
}
